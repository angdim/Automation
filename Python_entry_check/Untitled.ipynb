{
 "cells": [
  {
   "cell_type": "code",
   "execution_count": 1,
   "id": "d38afdf4-1fae-4e2b-8060-735375758cef",
   "metadata": {},
   "outputs": [
    {
     "name": "stdout",
     "output_type": "stream",
     "text": [
      "Hello world!\n"
     ]
    }
   ],
   "source": [
    "print('Hello world!')"
   ]
  },
  {
   "cell_type": "code",
   "execution_count": 2,
   "id": "9e772920-efc7-4fcc-b97b-f48250a61fef",
   "metadata": {},
   "outputs": [
    {
     "data": {
      "text/plain": [
       "3"
      ]
     },
     "execution_count": 2,
     "metadata": {},
     "output_type": "execute_result"
    }
   ],
   "source": [
    "6//2"
   ]
  },
  {
   "cell_type": "code",
   "execution_count": 3,
   "id": "ffccfb0e-7fe3-4561-9f7d-992588004e93",
   "metadata": {},
   "outputs": [
    {
     "data": {
      "text/plain": [
       "3"
      ]
     },
     "execution_count": 3,
     "metadata": {},
     "output_type": "execute_result"
    }
   ],
   "source": [
    "7//2"
   ]
  },
  {
   "cell_type": "code",
   "execution_count": 4,
   "id": "cbabd33d-ba1a-4542-afda-5c3fd6395e51",
   "metadata": {},
   "outputs": [
    {
     "data": {
      "text/plain": [
       "1"
      ]
     },
     "execution_count": 4,
     "metadata": {},
     "output_type": "execute_result"
    }
   ],
   "source": [
    "7%2"
   ]
  },
  {
   "cell_type": "code",
   "execution_count": 5,
   "id": "20f76c86-7fa8-444a-8369-f93269a9e094",
   "metadata": {},
   "outputs": [
    {
     "data": {
      "text/plain": [
       "1"
      ]
     },
     "execution_count": 5,
     "metadata": {},
     "output_type": "execute_result"
    }
   ],
   "source": [
    "9%4"
   ]
  },
  {
   "cell_type": "code",
   "execution_count": 6,
   "id": "f099838b-fbb9-4178-9301-5f29235e8140",
   "metadata": {},
   "outputs": [
    {
     "data": {
      "text/plain": [
       "2"
      ]
     },
     "execution_count": 6,
     "metadata": {},
     "output_type": "execute_result"
    }
   ],
   "source": [
    "11%3"
   ]
  },
  {
   "cell_type": "code",
   "execution_count": 7,
   "id": "fa534093-18e1-4f6b-8de1-2d1917f07907",
   "metadata": {},
   "outputs": [
    {
     "name": "stdout",
     "output_type": "stream",
     "text": [
      "[2, 4, 6, 8, 10, 12, 14, 16, 18, 20]\n"
     ]
    }
   ],
   "source": [
    "evens = [x for x in range(1, 21) if x%2==0]\n",
    "print(evens)"
   ]
  },
  {
   "cell_type": "code",
   "execution_count": 8,
   "id": "c17bf60d-3f3c-4c6b-9949-092ec8a28c0a",
   "metadata": {},
   "outputs": [
    {
     "ename": "TypeError",
     "evalue": "can't multiply sequence by non-int of type 'list'",
     "output_type": "error",
     "traceback": [
      "\u001b[1;31m---------------------------------------------------------------------------\u001b[0m",
      "\u001b[1;31mTypeError\u001b[0m                                 Traceback (most recent call last)",
      "Cell \u001b[1;32mIn[8], line 3\u001b[0m\n\u001b[0;32m      1\u001b[0m evens \u001b[38;5;241m=\u001b[39m [x \u001b[38;5;28;01mfor\u001b[39;00m x \u001b[38;5;129;01min\u001b[39;00m \u001b[38;5;28mrange\u001b[39m(\u001b[38;5;241m1\u001b[39m, \u001b[38;5;241m21\u001b[39m) \u001b[38;5;28;01mif\u001b[39;00m x\u001b[38;5;241m%\u001b[39m\u001b[38;5;241m2\u001b[39m \u001b[38;5;241m==\u001b[39m \u001b[38;5;241m0\u001b[39m]\n\u001b[0;32m      2\u001b[0m no_5s \u001b[38;5;241m=\u001b[39m [y \u001b[38;5;28;01mfor\u001b[39;00m y \u001b[38;5;129;01min\u001b[39;00m evens \u001b[38;5;28;01mif\u001b[39;00m \u001b[38;5;129;01mnot\u001b[39;00m y\u001b[38;5;241m%\u001b[39m\u001b[38;5;241m5\u001b[39m \u001b[38;5;241m==\u001b[39m \u001b[38;5;241m0\u001b[39m]\n\u001b[1;32m----> 3\u001b[0m \u001b[38;5;28mprint\u001b[39m(\u001b[38;5;124;43m'\u001b[39;49m\u001b[38;5;124;43mOriginal list: \u001b[39;49m\u001b[38;5;124;43m'\u001b[39;49m\u001b[38;5;241;43m*\u001b[39;49m\u001b[43mevens\u001b[49m, sep\u001b[38;5;241m=\u001b[39m\u001b[38;5;124m'\u001b[39m\u001b[38;5;124m, \u001b[39m\u001b[38;5;124m'\u001b[39m)\n\u001b[0;32m      4\u001b[0m \u001b[38;5;28mprint\u001b[39m(\u001b[38;5;124m'\u001b[39m\u001b[38;5;124mModified list: \u001b[39m\u001b[38;5;124m'\u001b[39m\u001b[38;5;241m*\u001b[39mno_5s, sep\u001b[38;5;241m=\u001b[39m\u001b[38;5;124m'\u001b[39m\u001b[38;5;124m, \u001b[39m\u001b[38;5;124m'\u001b[39m)\n",
      "\u001b[1;31mTypeError\u001b[0m: can't multiply sequence by non-int of type 'list'"
     ]
    }
   ],
   "source": [
    "evens = [x for x in range(1, 21) if x%2 == 0]\n",
    "no_5s = [y for y in evens if not y%5 == 0]\n",
    "print('Original list: '*evens, sep=', ')\n",
    "print('Modified list: '*no_5s, sep=', ')"
   ]
  },
  {
   "cell_type": "code",
   "execution_count": 17,
   "id": "ca911625-6e2c-410d-9b02-d9118a7cf465",
   "metadata": {},
   "outputs": [
    {
     "name": "stdout",
     "output_type": "stream",
     "text": [
      "Original list: \n",
      "2, 4, 6, 8, 10, 12, 14, 16, 18, 20\n",
      "Modified list: , 2, 4, 6, 8, 12, 14, 16, 18\n"
     ]
    }
   ],
   "source": [
    "evens = [x for x in range(1, 21) if x%2 == 0]\n",
    "no_5s = [y for y in evens if not y%5 == 0]\n",
    "print('Original list: ')\n",
    "print(*evens, sep=\", \")\n",
    "print('Modified list: ',*no_5s, sep=', ')"
   ]
  },
  {
   "cell_type": "code",
   "execution_count": 3,
   "id": "50d24e21-1004-49c4-99ae-8600f9011956",
   "metadata": {},
   "outputs": [
    {
     "name": "stdout",
     "output_type": "stream",
     "text": [
      "Alice\n",
      "85\n"
     ]
    },
    {
     "data": {
      "text/plain": [
       "int"
      ]
     },
     "execution_count": 3,
     "metadata": {},
     "output_type": "execute_result"
    }
   ],
   "source": [
    "student = 'Alice:85'\n",
    "print(student.split(':')[0])\n",
    "print(student.split(':')[1])\n",
    "type(int(student.split(':')[1]))"
   ]
  },
  {
   "cell_type": "code",
   "execution_count": 1,
   "id": "61dcfb45-b80a-46b8-92fe-67cc5882929f",
   "metadata": {},
   "outputs": [
    {
     "data": {
      "text/plain": [
       "2"
      ]
     },
     "execution_count": 1,
     "metadata": {},
     "output_type": "execute_result"
    }
   ],
   "source": [
    "len('87')"
   ]
  },
  {
   "cell_type": "code",
   "execution_count": 5,
   "id": "50c4b8d3-7d49-4891-841d-45ac16acb047",
   "metadata": {},
   "outputs": [
    {
     "name": "stdout",
     "output_type": "stream",
     "text": [
      "['A', 'B', 'C', 'D', 'E', 'F', 'G', 'H', 'I', 'J', 'K', 'L', 'M', 'N', 'O', 'P', 'Q', 'R', 'S', 'T', 'U', 'V', 'W', 'X', 'Y', 'Z']\n"
     ]
    }
   ],
   "source": [
    "mapper = list(map(chr, range(65, 91)))\n",
    "print(mapper)"
   ]
  },
  {
   "cell_type": "code",
   "execution_count": 6,
   "id": "3798b3e7-fd0d-492f-ab0c-b905dc3056ec",
   "metadata": {},
   "outputs": [
    {
     "data": {
      "text/plain": [
       "2"
      ]
     },
     "execution_count": 6,
     "metadata": {},
     "output_type": "execute_result"
    }
   ],
   "source": [
    "2%3"
   ]
  },
  {
   "cell_type": "code",
   "execution_count": 7,
   "id": "71415440-80c9-4988-b61f-0674b48db420",
   "metadata": {},
   "outputs": [
    {
     "data": {
      "text/plain": [
       "0"
      ]
     },
     "execution_count": 7,
     "metadata": {},
     "output_type": "execute_result"
    }
   ],
   "source": [
    "0%9"
   ]
  },
  {
   "cell_type": "code",
   "execution_count": 8,
   "id": "c7544944-227b-48eb-9c13-9724bdee2bab",
   "metadata": {},
   "outputs": [
    {
     "data": {
      "text/plain": [
       "0"
      ]
     },
     "execution_count": 8,
     "metadata": {},
     "output_type": "execute_result"
    }
   ],
   "source": [
    "0%10"
   ]
  },
  {
   "cell_type": "code",
   "execution_count": 9,
   "id": "464643fd-bf67-4c8b-bb9b-6f0c3bff0b71",
   "metadata": {},
   "outputs": [
    {
     "data": {
      "text/plain": [
       "9"
      ]
     },
     "execution_count": 9,
     "metadata": {},
     "output_type": "execute_result"
    }
   ],
   "source": [
    "9%9\n",
    "9%10"
   ]
  },
  {
   "cell_type": "code",
   "execution_count": 10,
   "id": "9675191e-60c2-4f65-9a71-2e4060abd472",
   "metadata": {},
   "outputs": [
    {
     "data": {
      "text/plain": [
       "0"
      ]
     },
     "execution_count": 10,
     "metadata": {},
     "output_type": "execute_result"
    }
   ],
   "source": [
    "9%9"
   ]
  },
  {
   "cell_type": "code",
   "execution_count": 17,
   "id": "901bb59e-3719-4c40-a262-c0fcb4d1dda1",
   "metadata": {},
   "outputs": [
    {
     "name": "stdout",
     "output_type": "stream",
     "text": [
      "['<?xml version=\"1.0\" encoding=\"UTF-8\"?>', '<test-suite name=\"CalculatorTests\">', '    <test-case name=\"test_addition\">', '        <description>Tests basic addition functionality</description>', '        <subclass>Integration</subclass>', '        <input>', '            <operand1>5</operand1>', '            <operand2>3</operand2>', '        </input>', '        <expected-result>8</expected-result>', '    </test-case>', '', '    <test-case name=\"test_subtraction\">', '        <description>Tests basic subtraction functionality</description>', '        <subclass>Recovery</subclass>', '        <input>', '            <operand1>10</operand1>', '            <operand2>7</operand2>', '        </input>', '        <expected-result>3</expected-result>', '    </test-case>', '', '    <test-case name=\"test_multiplication\">', '        <description>Tests basic multiplication functionality</description>', '        <subclass>Recovery</subclass>', '        <input>', '            <operand1>10</operand1>', '            <operand2>7</operand2>', '        </input>', '        <expected-result>70</expected-result>', '    </test-case>', '', '    </test-suite>']\n"
     ]
    }
   ],
   "source": [
    "#file2list = []\n",
    "with open(\"test-suite.xml\") as f:\n",
    "    file2list = f.read().split(\"\\n\")\n",
    "    with open(\"test.xml\", \"a\") as t:\n",
    "        \n",
    "    print(file2list)"
   ]
  },
  {
   "cell_type": "code",
   "execution_count": null,
   "id": "85dd49c1-553b-423b-99ff-34de0df479cc",
   "metadata": {},
   "outputs": [],
   "source": []
  }
 ],
 "metadata": {
  "kernelspec": {
   "display_name": "Python 3 (ipykernel)",
   "language": "python",
   "name": "python3"
  },
  "language_info": {
   "codemirror_mode": {
    "name": "ipython",
    "version": 3
   },
   "file_extension": ".py",
   "mimetype": "text/x-python",
   "name": "python",
   "nbconvert_exporter": "python",
   "pygments_lexer": "ipython3",
   "version": "3.11.8"
  }
 },
 "nbformat": 4,
 "nbformat_minor": 5
}
