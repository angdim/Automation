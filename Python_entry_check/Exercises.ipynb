{
 "cells": [
  {
   "cell_type": "code",
   "execution_count": 12,
   "id": "901bb59e-3719-4c40-a262-c0fcb4d1dda1",
   "metadata": {},
   "outputs": [],
   "source": [
    "#file2list = []\n",
    "with open(\"test-suite.xml\") as f:\n",
    "    file2list = f.read().split(\"\\n\")\n",
    "    with open(\"test.xml\", \"w\") as t:\n",
    "        for cl in file2list:\n",
    "            t.write(cl+\"\\n\")\n",
    "    #print(file2list)"
   ]
  },
  {
   "cell_type": "code",
   "execution_count": 2,
   "id": "85dd49c1-553b-423b-99ff-34de0df479cc",
   "metadata": {},
   "outputs": [
    {
     "data": {
      "text/plain": [
       "['<subclass>Recovery</subclass>']"
      ]
     },
     "execution_count": 2,
     "metadata": {},
     "output_type": "execute_result"
    }
   ],
   "source": [
    "ll = \"        <description>Tests basic subtraction functionality</description>\"\n",
    "ll.split()"
   ]
  }
 ],
 "metadata": {
  "kernelspec": {
   "display_name": "Python 3 (ipykernel)",
   "language": "python",
   "name": "python3"
  },
  "language_info": {
   "codemirror_mode": {
    "name": "ipython",
    "version": 3
   },
   "file_extension": ".py",
   "mimetype": "text/x-python",
   "name": "python",
   "nbconvert_exporter": "python",
   "pygments_lexer": "ipython3",
   "version": "3.11.8"
  }
 },
 "nbformat": 4,
 "nbformat_minor": 5
}
